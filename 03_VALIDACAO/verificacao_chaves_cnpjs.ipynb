{
 "cells": [
  {
   "cell_type": "code",
   "execution_count": 1,
   "metadata": {},
   "outputs": [],
   "source": [
    "import pandas as pd\n",
    "from sqlalchemy.engine import URL # ao usar pyodbc o pandas continuava dando aviso recomendando usar sqlalchemy, portanto mudei a biblioteca utilizada para a query\n",
    "from sqlalchemy import create_engine, text\n",
    "import boto3\n",
    "import ast"
   ]
  },
  {
   "cell_type": "code",
   "execution_count": 2,
   "metadata": {},
   "outputs": [],
   "source": [
    "secret_name = \"database_tcepb\"\n",
    "region_name = \"sa-east-1\"\n",
    "\n",
    "# Create a Secrets Manager client\n",
    "session = boto3.session.Session()\n",
    "client = session.client(\n",
    "    service_name='secretsmanager',\n",
    "    region_name=region_name\n",
    ")\n",
    "\n",
    "get_secret_value_response = client.get_secret_value(\n",
    "    SecretId=secret_name\n",
    ")\n",
    "SERVER_TRIBUNAL = ast.literal_eval(get_secret_value_response[\"SecretString\"])[\"host\"] + \", \" + ast.literal_eval(get_secret_value_response[\"SecretString\"])[\"port\"]\n",
    "DB_TRIBUNAL = ast.literal_eval(get_secret_value_response[\"SecretString\"])[\"dbname\"]\n",
    "USERNAME = ast.literal_eval(get_secret_value_response[\"SecretString\"])[\"username\"]\n",
    "PASSWORD = ast.literal_eval(get_secret_value_response[\"SecretString\"])[\"password\"]"
   ]
  },
  {
   "cell_type": "code",
   "execution_count": 126,
   "metadata": {},
   "outputs": [],
   "source": [
    "string_conexao = \"DRIVER={SQL Server};\" + f\"SERVER={SERVER_TRIBUNAL};DATABASE={DB_TRIBUNAL};UID={USERNAME};PWD={PASSWORD}\"\n",
    "url_conexao = URL.create(\"mssql+pyodbc\", query={\"odbc_connect\": string_conexao}) # cria uma URL de conexão para ser colocado em engine\n",
    "engine = create_engine(url_conexao) # Documentation: https://docs.sqlalchemy.org/en/14/core/engines.html"
   ]
  },
  {
   "cell_type": "code",
   "execution_count": 127,
   "metadata": {},
   "outputs": [],
   "source": [
    "cnpj = \"'11308834000185'\""
   ]
  },
  {
   "attachments": {},
   "cell_type": "markdown",
   "metadata": {},
   "source": [
    "## Funções"
   ]
  },
  {
   "cell_type": "code",
   "execution_count": 128,
   "metadata": {},
   "outputs": [],
   "source": [
    "def busca_sql(query: str) -> pd.DataFrame:\n",
    "    \"\"\"\n",
    "    Recebe uma string como sql query e retorna do dataframe dessa busca.\n",
    "    \"\"\"\n",
    "    with engine.begin() as conn:\n",
    "        df = pd.read_sql_query(text(query), conn)\n",
    "    return df"
   ]
  },
  {
   "cell_type": "code",
   "execution_count": 129,
   "metadata": {},
   "outputs": [],
   "source": [
    "def comparando_dfs(df_raw: list[str], df_filtered: list[str]) -> list[str]:\n",
    "    \"\"\"Recebe a lista no primeiro argumento e retorna os valores que não estão contidos na segunda lista.\"\"\"\n",
    "    nao_passou_no_filtro = []\n",
    "    for chave in df_raw:\n",
    "        if chave not in df_filtered:\n",
    "            nao_passou_no_filtro.append(chave)\n",
    "    return nao_passou_no_filtro"
   ]
  },
  {
   "attachments": {},
   "cell_type": "markdown",
   "metadata": {},
   "source": [
    "## Notas Normais"
   ]
  },
  {
   "attachments": {},
   "cell_type": "markdown",
   "metadata": {},
   "source": [
    "### Queries"
   ]
  },
  {
   "cell_type": "code",
   "execution_count": 130,
   "metadata": {},
   "outputs": [],
   "source": [
    "query_notas_ativas_raw = \\\n",
    "rf\"\"\"\n",
    "SELECT\n",
    "\tDISTINCT chave.chave\n",
    "FROM NFE_PUBLICA_PRODUCAO.dbo.FATO_NFE AS nfe -- Juntando com a tabela NFE para, a partir dela, fazer ligação com a tabela DIM_DESTINATARIO_EMITENTE\n",
    "\n",
    "INNER JOIN NFE_PUBLICA_PRODUCAO.dbo.DIM_CHAVE AS chave -- Juntando com tabela DIM_CHAVE para pegar a chave da nota fiscal\n",
    "\tON nfe.id_chave = chave.id_chave\n",
    "\n",
    "INNER JOIN NFE_PUBLICA_PRODUCAO.dbo.DIM_DESTINATARIO_EMITENTE AS emitente_destinatario -- Relação das notas fiscais com os dados de seus emitentes\n",
    "\tON nfe.id_emitente = emitente_destinatario.id_destinatario_emitente\n",
    "\n",
    "INNER JOIN NFE_PUBLICA_PRODUCAO.dbo.DIM_CPF_CNPJ AS cpf_cnpj -- Relação com tabela DIM_CPF_CNPJ para pegar o cnpj\n",
    "\tON emitente_destinatario.id_cpf_cnpj = cpf_cnpj.id_cpf_cnpj\n",
    "\n",
    "WHERE\n",
    "\tnfe.nota_cancelada = 0 AND\n",
    "\tnfe.id_finalidade = 1 AND\n",
    "\tcpf_cnpj.cnpj = {cnpj} AND\n",
    "\tchave.chave NOT IN (\n",
    "\t\tSELECT\n",
    "\t\t\tDISTINCT chave.chave\n",
    "\t\tFROM NFE_PUBLICA_PRODUCAO.dbo.FATO_NFE AS nfe -- Juntando com a tabela NFE para, a partir dela, fazer ligação com a tabela DIM_DESTINATARIO_EMITENTE\n",
    "\n",
    "\t\tINNER JOIN NFE_PUBLICA_PRODUCAO.dbo.DIM_CHAVE AS chave -- Juntando com tabela DIM_CHAVE para pegar a chave da nota fiscal\n",
    "\t\t\tON nfe.id_chave = chave.id_chave\n",
    "\n",
    "\t\tINNER JOIN NFE_PUBLICA_PRODUCAO.dbo.DIM_DESTINATARIO_EMITENTE AS emitente_destinatario -- Relação das notas fiscais com os dados de seus emitentes\n",
    "\t\t\tON nfe.id_emitente = emitente_destinatario.id_destinatario_emitente\n",
    "\n",
    "\t\tINNER JOIN NFE_PUBLICA_PRODUCAO.dbo.DIM_CPF_CNPJ AS cpf_cnpj -- Relação com tabela DIM_CPF_CNPJ para pegar o cnpj\n",
    "\t\t\tON emitente_destinatario.id_cpf_cnpj = cpf_cnpj.id_cpf_cnpj\n",
    "\n",
    "\t\tWHERE\n",
    "\t\t\tnfe.nota_cancelada = 1 AND\n",
    "\t\t\tcpf_cnpj.cnpj = {cnpj}\n",
    "\t)\n",
    "ORDER BY chave.chave;\n",
    "\"\"\""
   ]
  },
  {
   "cell_type": "code",
   "execution_count": 131,
   "metadata": {},
   "outputs": [],
   "source": [
    "query_notas_ativas_filtered = \\\n",
    "rf\"\"\"\n",
    "SELECT\n",
    "\tDISTINCT chave.chave\n",
    "FROM NFE_PUBLICA_PRODUCAO.dbo.FATO_PRODUTO AS produtos -- Carregando a tabela produtos que é o alvo da query\n",
    "INNER JOIN NFE_PUBLICA_PRODUCAO.dbo.FATO_NFE AS nfe -- Juntando com a tabela NFE para, a partir dela, fazer ligação com a tabela DIM_DESTINATARIO_EMITENTE\n",
    "\tON produtos.id_chave = nfe.id_chave\n",
    "INNER JOIN NFE_PUBLICA_PRODUCAO.dbo.DIM_CHAVE AS chave -- Juntando com tabela DIM_CHAVE para pegar a chave da nota fiscal\n",
    "\tON produtos.id_chave = chave.id_chave\n",
    "INNER JOIN NFE_PUBLICA_PRODUCAO.dbo.DIM_DESTINATARIO_EMITENTE AS emitente -- Relação das notas fiscais com os dados de seus emitentes\n",
    "\tON nfe.id_emitente = emitente.id_destinatario_emitente\n",
    "INNER JOIN NFE_PUBLICA_PRODUCAO.dbo.DIM_DESTINATARIO_EMITENTE AS destinatario -- Relação das notas fiscais com os dados de seus destinatarios\n",
    "\tON nfe.id_destinatario = destinatario.id_destinatario_emitente\n",
    "LEFT JOIN NFE_PUBLICA_PRODUCAO.dbo.DIM_ENDERECO as endereco -- Relação com DIM_ENDERECO para pegar o municipio de cada destinatario\n",
    "\tON destinatario.id_endereco = endereco.id_endereco\n",
    "INNER JOIN NFE_PUBLICA_PRODUCAO.dbo.DIM_CPF_CNPJ AS cpf_cnpj -- Relação com tabela DIM_CPF_CNPJ para pegar o cnpj\n",
    "\tON emitente.id_cpf_cnpj = cpf_cnpj.id_cpf_cnpj\n",
    "INNER JOIN RF.dbo.t_pessoa_juridica AS pessoa_juridica -- Relação com banco de dados da Rceita Federal através do NPJ para filtras os códigos CNAE das empresas\n",
    "\tON cpf_cnpj.cnpj = pessoa_juridica.cnpj\n",
    "--------------------------------------------------------------------------------------------------------------------------------------------------------------\n",
    "WHERE\n",
    "--FILTRO PRODUTOS\n",
    "\t(\n",
    "\t\t-- Código para bebidas, líquidos alcoólicos e vinagres (Capítulo 22)\n",
    "\t\tprodutos.codigo_ncm LIKE '22071%' OR\n",
    "\t\tprodutos.codigo_ncm LIKE '22072%' OR\n",
    "\t\t-- Códigos NCM para produtos farmacêuticos (Capítulo 30)\n",
    "\t\tprodutos.codigo_ncm LIKE '30%' OR\n",
    "\t\t-- Código Extratos tanantes e tintoriais (Capítulo 32)\n",
    "\t\tprodutos.codigo_ncm LIKE '320416%' OR -- corantes reagentes e preparações à base desses corantes\n",
    "\t\t-- Código para produtos para fotografia e cinematografia (Capítulo 37)\n",
    "\t\tprodutos.codigo_ncm LIKE '370110%' OR -- filme para raio x\n",
    "\t\t-- Código produtos químicos diversos (Capítulo 38)\n",
    "\t\tprodutos.codigo_ncm LIKE '3821%' OR -- Meios de cultura preparados para o desenvolvimento e a manutenção de microrganismos \n",
    "\t\tprodutos.codigo_ncm LIKE '3822%' OR -- reagentes de diagnóstico ou de laboratório (e.g. analisador de PH, glicose liquida, fósforo UV, hemoglobina glicada, acido urico)\n",
    "\t\t-- Código NCM para produtos de borracha (Capítulo 40)\n",
    "\t\tprodutos.codigo_ncm LIKE '40151%' OR\n",
    "\t\t-- Código para tecidos especiais, tecidos tufados, rendas, tapeçarias, passamanarias, bordados (Capítulo 58)\n",
    "\t\tprodutos.codigo_ncm LIKE '5803%' OR -- Tecidos em ponto de gaze\n",
    "\t\t-- Código para Outros artefatos têxteis confeccionados (Capítulo 60)\n",
    "\t\tprodutos.codigo_ncm LIKE '6307901%' OR -- Outros artefatos confeccionados de falso tecido (e.g. máscara)\n",
    "\t\t-- Código Reatores nucleares, caldeiras, máquinas, aparelhos e instrumentos mecânicos, e suas partes (Capítulo 84)\n",
    "\t\tprodutos.codigo_ncm LIKE '842119%' OR -- Centrifugadores para laboratórios de análises, ensaios ou pesquisas científicas\n",
    "\t\tprodutos.codigo_ncm LIKE '842191%' OR -- Partes de centrifugadores\n",
    "\t\tprodutos.codigo_ncm LIKE '84798912' OR -- Distribuidores e doseadores de sólidos ou de líquidos  (e.g. micropipeta)\n",
    "\t\t-- Códigos NCM para instrumentos e aparelhos de óptica, de fotografia, de cinematografia, de medida, de controle ou de precisão.\n",
    "\t\t-- instrumentos e aparelhos médico-cirúrgicos suas partes e acessórios (Capítulo 90)\n",
    "\t\tprodutos.codigo_ncm LIKE '9011%' OR --  Microscópios ópticos, incluindo os microscópios para fotomicrografia, cinefotomicrografia ou microprojeção.\n",
    "\t\tprodutos.codigo_ncm LIKE '9012%' OR --  Microscópios, exceto ópticos; difratógrafos.\n",
    "\t\tprodutos.codigo_ncm LIKE '9018%' OR -- instumentos e aparelhos para medicina, cirurgia, odontologia e veterinária\n",
    "\t\tprodutos.codigo_ncm LIKE '9019%' OR -- aparelhos de mecanoterapia, aparelhos de massagem, de psicotécnica, de ozonoterapia...\n",
    "\t\tprodutos.codigo_ncm LIKE '9020%' OR -- outros aparelhos respiratórios e máscaras contra gases\n",
    "\t\tprodutos.codigo_ncm LIKE '9021%' OR -- Artigos e aparelhos ortopédicos\n",
    "\t\tprodutos.codigo_ncm LIKE '9022%' OR -- Aparelhos de raios X e aparelhos que utilizem radiações alfa\n",
    "\t\tprodutos.codigo_ncm LIKE '9027%' OR -- Instrumentos e aparelhos para análises físicas ou químicas\n",
    "\t\t-- Códigos para Obras diversas (Capítulo 96)\n",
    "\t\tprodutos.codigo_ncm LIKE '9619%' OR --  Absorventes e tampões higiênicos, cueiros e fraldas para bebês e artigos higiênicos semelhantes, de qualquer matéria.\n",
    "\t\t\t-- FONTE: http://www5.sefaz.mt.gov.br/documents/6071037/6401784/Tabela+NCM+-+MDIC+atualizada.pdf/bc780e4b-fd2f-4312-879c-65d5fd1ff49d / Pág. 129\n",
    "\t\tprodutos.id_medicamento != -1 -- possui id de medicamento válido\n",
    "\t) AND\n",
    "--------------------------------------------------------------------------------------------------------------------------------------------------------------\n",
    "--FILTRO NOTA FISCAL\n",
    "\tnfe.nota_cancelada = 0 AND -- Notas que não foram canceladas\n",
    "\tnfe.id_modelo = 2 AND -- Notas 55\n",
    "\tnfe.id_finalidade = 1 AND -- Notas que não possuem valor 4 (DEVOLUCAO DE MERCADORIA), nem valor -1 (finalidade nula) e nem valor -2 (TIPO INVALIDO CONSULTE NFE)\n",
    "--------------------------------------------------------------------------------------------------------------------------------------------------------------\n",
    "--FILTRO PESSOA JURIDICA 4645101\n",
    "\tpessoa_juridica.cnae_fiscal IN (2110600, 2121101, 2121102, 2121103, 2123800, 2312500, 3299099, 4618401,\n",
    "\t\t\t\t\t\t\t\t\t4644301, 4645101, 4664800, 4684299, 4771701, 4771702, 4771703, 4773300) -- Empresas farmoquimicas e farmaceuticas\n",
    "-- Fonte: https://www.contabilizei.com.br/contabilidade-online/cnae/ - https://concla.ibge.gov.br/busca-online-cnae.html\n",
    "--------------------------------------------------------------------------------------------------------------------------------------------------------------\n",
    "\tAND cpf_cnpj.cnpj = {cnpj}\n",
    "\tAND chave.chave NOT IN (\n",
    "\t\tSELECT\n",
    "\t\t\tDISTINCT chave.chave\n",
    "\t\tFROM NFE_PUBLICA_PRODUCAO.dbo.FATO_NFE AS nfe -- Juntando com a tabela NFE para, a partir dela, fazer ligação com a tabela DIM_DESTINATARIO_EMITENTE\n",
    "\n",
    "\t\tINNER JOIN NFE_PUBLICA_PRODUCAO.dbo.DIM_CHAVE AS chave -- Juntando com tabela DIM_CHAVE para pegar a chave da nota fiscal\n",
    "\t\t\tON nfe.id_chave = chave.id_chave\n",
    "\n",
    "\t\tINNER JOIN NFE_PUBLICA_PRODUCAO.dbo.DIM_DESTINATARIO_EMITENTE AS emitente_destinatario -- Relação das notas fiscais com os dados de seus emitentes\n",
    "\t\t\tON nfe.id_emitente = emitente_destinatario.id_destinatario_emitente\n",
    "\n",
    "\t\tINNER JOIN NFE_PUBLICA_PRODUCAO.dbo.DIM_CPF_CNPJ AS cpf_cnpj -- Relação com tabela DIM_CPF_CNPJ para pegar o cnpj\n",
    "\t\t\tON emitente_destinatario.id_cpf_cnpj = cpf_cnpj.id_cpf_cnpj\n",
    "\n",
    "\t\tWHERE\n",
    "\t\t\tnfe.nota_cancelada = 1 AND\n",
    "\t\t\tcpf_cnpj.cnpj = {cnpj}\n",
    "\t)\n",
    "ORDER BY chave.chave;\n",
    "\"\"\""
   ]
  },
  {
   "attachments": {},
   "cell_type": "markdown",
   "metadata": {},
   "source": [
    "### Resultados"
   ]
  },
  {
   "cell_type": "code",
   "execution_count": 132,
   "metadata": {},
   "outputs": [
    {
     "data": {
      "text/plain": [
       "48"
      ]
     },
     "execution_count": 132,
     "metadata": {},
     "output_type": "execute_result"
    }
   ],
   "source": [
    "notas_ativas_raw = busca_sql(query_notas_ativas_raw)\n",
    "len(notas_ativas_raw[\"chave\"].values)"
   ]
  },
  {
   "cell_type": "code",
   "execution_count": 133,
   "metadata": {},
   "outputs": [
    {
     "data": {
      "text/plain": [
       "48"
      ]
     },
     "execution_count": 133,
     "metadata": {},
     "output_type": "execute_result"
    }
   ],
   "source": [
    "notas_ativas_filtered = busca_sql(query_notas_ativas_filtered)\n",
    "len(notas_ativas_filtered[\"chave\"].values)"
   ]
  },
  {
   "cell_type": "code",
   "execution_count": 134,
   "metadata": {},
   "outputs": [
    {
     "data": {
      "text/plain": [
       "([], 0)"
      ]
     },
     "execution_count": 134,
     "metadata": {},
     "output_type": "execute_result"
    }
   ],
   "source": [
    "nao_passou_no_filtro = comparando_dfs(notas_ativas_raw[\"chave\"].values, notas_ativas_filtered[\"chave\"].values)\n",
    "nao_passou_no_filtro, len(nao_passou_no_filtro)"
   ]
  },
  {
   "attachments": {},
   "cell_type": "markdown",
   "metadata": {},
   "source": [
    "## Notas Devolução"
   ]
  },
  {
   "attachments": {},
   "cell_type": "markdown",
   "metadata": {},
   "source": [
    "### Queries"
   ]
  },
  {
   "cell_type": "code",
   "execution_count": 135,
   "metadata": {},
   "outputs": [],
   "source": [
    "query_notas_ativas_raw_devolucao = \\\n",
    "rf\"\"\"\n",
    "SELECT\n",
    "\tDISTINCT chave.chave\n",
    "FROM NFE_PUBLICA_PRODUCAO.dbo.FATO_NFE AS nfe -- Juntando com a tabela NFE para, a partir dela, fazer ligação com a tabela DIM_DESTINATARIO_EMITENTE\n",
    "INNER JOIN NFE_PUBLICA_PRODUCAO.dbo.DIM_CHAVE AS chave -- Juntando com tabela DIM_CHAVE para pegar a chave da nota fiscal\n",
    "\tON nfe.id_chave = chave.id_chave\n",
    "INNER JOIN NFE_PUBLICA_PRODUCAO.dbo.DIM_DESTINATARIO_EMITENTE AS emitente_destinatario -- Relação das notas fiscais com os dados de seus emitentes\n",
    "\tON nfe.id_emitente = emitente_destinatario.id_destinatario_emitente\n",
    "INNER JOIN NFE_PUBLICA_PRODUCAO.dbo.DIM_CPF_CNPJ AS cpf_cnpj -- Relação com tabela DIM_CPF_CNPJ para pegar o cnpj\n",
    "\tON emitente_destinatario.id_cpf_cnpj = cpf_cnpj.id_cpf_cnpj\n",
    "WHERE\n",
    "\tnfe.nota_cancelada = 0 AND\n",
    "\tnfe.id_finalidade = 4 AND\n",
    "\tcpf_cnpj.cnpj = {cnpj} AND\n",
    "\tchave.chave NOT IN (\n",
    "\t\tSELECT\n",
    "\t\t\tDISTINCT chave.chave\n",
    "\t\tFROM NFE_PUBLICA_PRODUCAO.dbo.FATO_NFE AS nfe -- Juntando com a tabela NFE para, a partir dela, fazer ligação com a tabela DIM_DESTINATARIO_EMITENTE\n",
    "\t\tINNER JOIN NFE_PUBLICA_PRODUCAO.dbo.DIM_CHAVE AS chave -- Juntando com tabela DIM_CHAVE para pegar a chave da nota fiscal\n",
    "\t\t\tON nfe.id_chave = chave.id_chave\n",
    "\t\tINNER JOIN NFE_PUBLICA_PRODUCAO.dbo.DIM_DESTINATARIO_EMITENTE AS emitente_destinatario -- Relação das notas fiscais com os dados de seus emitentes\n",
    "\t\t\tON nfe.id_emitente = emitente_destinatario.id_destinatario_emitente\n",
    "\t\tINNER JOIN NFE_PUBLICA_PRODUCAO.dbo.DIM_CPF_CNPJ AS cpf_cnpj -- Relação com tabela DIM_CPF_CNPJ para pegar o cnpj\n",
    "\t\t\tON emitente_destinatario.id_cpf_cnpj = cpf_cnpj.id_cpf_cnpj\n",
    "\t\tWHERE\n",
    "\t\t\tnfe.nota_cancelada = 1 AND\n",
    "\t\t\tcpf_cnpj.cnpj = {cnpj}\n",
    "\t)\n",
    "ORDER BY chave.chave;\n",
    "\"\"\""
   ]
  },
  {
   "cell_type": "code",
   "execution_count": 136,
   "metadata": {},
   "outputs": [],
   "source": [
    "query_notas_ativas_filtered_devolucao = \\\n",
    "rf\"\"\"\n",
    "SELECT\n",
    "\tDISTINCT chave.chave\n",
    "FROM NFE_PUBLICA_PRODUCAO.dbo.FATO_PRODUTO AS produtos -- Carregando a tabela produtos que é o alvo da query\n",
    "INNER JOIN NFE_PUBLICA_PRODUCAO.dbo.FATO_NFE AS nfe -- Juntando com a tabela NFE para, a partir dela, fazer ligação com a tabela DIM_DESTINATARIO_EMITENTE\n",
    "\tON produtos.id_chave = nfe.id_chave\n",
    "INNER JOIN NFE_PUBLICA_PRODUCAO.dbo.DIM_CHAVE AS chave -- Juntando com tabela DIM_CHAVE para pegar a chave da nota fiscal\n",
    "\tON produtos.id_chave = chave.id_chave\n",
    "INNER JOIN NFE_PUBLICA_PRODUCAO.dbo.DIM_DESTINATARIO_EMITENTE AS emitente -- Relação das notas fiscais com os dados de seus emitentes\n",
    "\tON nfe.id_emitente = emitente.id_destinatario_emitente\n",
    "INNER JOIN NFE_PUBLICA_PRODUCAO.dbo.DIM_CPF_CNPJ AS cpf_cnpj -- Relação com tabela DIM_CPF_CNPJ para pegar o cnpj\n",
    "\tON emitente.id_cpf_cnpj = cpf_cnpj.id_cpf_cnpj\n",
    "INNER JOIN RF.dbo.t_pessoa_juridica AS pessoa_juridica -- Relação com banco de dados da Rceita Federal através do NPJ para filtras os códigos CNAE das empresas\n",
    "\tON cpf_cnpj.cnpj = pessoa_juridica.cnpj\n",
    "INNER JOIN NFE_PUBLICA_PRODUCAO.dbo.DIM_REFERENCIA AS referencia -- Relação para pegar referência\n",
    "\tON nfe.id_chave = referencia.id_chave\n",
    "INNER JOIN NFE_PUBLICA_PRODUCAO.dbo.DIM_CHAVE_REFERENCIADA AS chave_referenciada -- Relação para pegar a chave da NF que está sendo referenciada\n",
    "\tON referencia.id_chave_referenciada = chave_referenciada.id_chave_referenciada\n",
    "--------------------------------------------------------------------------------------------------------------------------------------------------------------\n",
    "\n",
    "WHERE\n",
    "--FILTRO PRODUTOS\n",
    "\t(\n",
    "\t\t-- Código para bebidas, líquidos alcoólicos e vinagres (Capítulo 22)\n",
    "\t\tprodutos.codigo_ncm LIKE '22071%' OR\n",
    "\t\tprodutos.codigo_ncm LIKE '22072%' OR\n",
    "\t\t-- Códigos NCM para produtos farmacêuticos (Capítulo 30)\n",
    "\t\tprodutos.codigo_ncm LIKE '30%' OR\n",
    "\t\t-- Código Extratos tanantes e tintoriais (Capítulo 32)\n",
    "\t\tprodutos.codigo_ncm LIKE '320416%' OR -- corantes reagentes e preparações à base desses corantes\n",
    "\t\t-- Código para produtos para fotografia e cinematografia (Capítulo 37)\n",
    "\t\tprodutos.codigo_ncm LIKE '370110%' OR -- filme para raio x\n",
    "\t\t-- Código produtos químicos diversos (Capítulo 38)\n",
    "\t\tprodutos.codigo_ncm LIKE '3821%' OR -- Meios de cultura preparados para o desenvolvimento e a manutenção de microrganismos \n",
    "\t\tprodutos.codigo_ncm LIKE '3822%' OR -- reagentes de diagnóstico ou de laboratório (e.g. analisador de PH, glicose liquida, fósforo UV, hemoglobina glicada, acido urico)\n",
    "\t\t-- Código NCM para produtos de borracha (Capítulo 40)\n",
    "\t\tprodutos.codigo_ncm LIKE '40151%' OR\n",
    "\t\t-- Código para tecidos especiais, tecidos tufados, rendas, tapeçarias, passamanarias, bordados (Capítulo 58)\n",
    "\t\tprodutos.codigo_ncm LIKE '5803%' OR -- Tecidos em ponto de gaze\n",
    "\t\t-- Código para Outros artefatos têxteis confeccionados (Capítulo 60)\n",
    "\t\tprodutos.codigo_ncm LIKE '6307901%' OR -- Outros artefatos confeccionados de falso tecido (e.g. máscara)\n",
    "\t\t-- Código Reatores nucleares, caldeiras, máquinas, aparelhos e instrumentos mecânicos, e suas partes (Capítulo 84)\n",
    "\t\tprodutos.codigo_ncm LIKE '842119%' OR -- Centrifugadores para laboratórios de análises, ensaios ou pesquisas científicas\n",
    "\t\tprodutos.codigo_ncm LIKE '842191%' OR -- Partes de centrifugadores\n",
    "\t\tprodutos.codigo_ncm LIKE '84798912' OR -- Distribuidores e doseadores de sólidos ou de líquidos  (e.g. micropipeta)\n",
    "\t\t-- Códigos NCM para instrumentos e aparelhos de óptica, de fotografia, de cinematografia, de medida, de controle ou de precisão.\n",
    "\t\t-- instrumentos e aparelhos médico-cirúrgicos suas partes e acessórios (Capítulo 90)\n",
    "\t\tprodutos.codigo_ncm LIKE '9011%' OR --  Microscópios ópticos, incluindo os microscópios para fotomicrografia, cinefotomicrografia ou microprojeção.\n",
    "\t\tprodutos.codigo_ncm LIKE '9012%' OR --  Microscópios, exceto ópticos; difratógrafos.\n",
    "\t\tprodutos.codigo_ncm LIKE '9018%' OR -- instumentos e aparelhos para medicina, cirurgia, odontologia e veterinária\n",
    "\t\tprodutos.codigo_ncm LIKE '9019%' OR -- aparelhos de mecanoterapia, aparelhos de massagem, de psicotécnica, de ozonoterapia...\n",
    "\t\tprodutos.codigo_ncm LIKE '9020%' OR -- outros aparelhos respiratórios e máscaras contra gases\n",
    "\t\tprodutos.codigo_ncm LIKE '9021%' OR -- Artigos e aparelhos ortopédicos\n",
    "\t\tprodutos.codigo_ncm LIKE '9022%' OR -- Aparelhos de raios X e aparelhos que utilizem radiações alfa\n",
    "\t\tprodutos.codigo_ncm LIKE '9027%' OR -- Instrumentos e aparelhos para análises físicas ou químicas\n",
    "\t\t-- Códigos para Obras diversas (Capítulo 96)\n",
    "\t\tprodutos.codigo_ncm LIKE '9619%' OR --  Absorventes e tampões higiênicos, cueiros e fraldas para bebês e artigos higiênicos semelhantes, de qualquer matéria.\n",
    "\t\t\t-- FONTE: http://www5.sefaz.mt.gov.br/documents/6071037/6401784/Tabela+NCM+-+MDIC+atualizada.pdf/bc780e4b-fd2f-4312-879c-65d5fd1ff49d / Pág. 129\n",
    "\t\tprodutos.id_medicamento != -1 -- possui id de medicamento válido\n",
    "\t) AND\n",
    "--------------------------------------------------------------------------------------------------------------------------------------------------------------\n",
    "--FILTRO NOTA FISCAL\n",
    "\tnfe.nota_cancelada = 0 AND -- Notas que não foram canceladas\n",
    "\tnfe.id_modelo = 2 AND -- Notas 55\n",
    "\tnfe.id_finalidade = 4 AND -- Notas que possuem valor 4 (DEVOLUCAO DE MERCADORIA)\n",
    "\tchave_referenciada.chave_nf IS NOT NULL AND\n",
    "--------------------------------------------------------------------------------------------------------------------------------------------------------------\n",
    "--FILTRO PESSOA JURIDICA\n",
    "\tpessoa_juridica.cnae_fiscal IN (2110600, 2121101, 2121102, 2121103, 2123800, 2312500, 3299099, 4618401,\n",
    "\t\t\t\t\t\t\t\t\t4644301, 4645101, 4664800, 4684299, 4771701, 4771702, 4771703, 4773300) -- Empresas farmoquimicas e farmaceuticas\n",
    "-- Fonte: https://www.contabilizei.com.br/contabilidade-online/cnae/ - https://concla.ibge.gov.br/busca-online-cnae.html\n",
    "--------------------------------------------------------------------------------------------------------------------------------------------------------------\n",
    "\tAND cpf_cnpj.cnpj = {cnpj}\n",
    "\tAND chave.chave NOT IN (\n",
    "\t\tSELECT\n",
    "\t\t\tDISTINCT chave.chave\n",
    "\t\tFROM NFE_PUBLICA_PRODUCAO.dbo.FATO_NFE AS nfe -- Juntando com a tabela NFE para, a partir dela, fazer ligação com a tabela DIM_DESTINATARIO_EMITENTE\n",
    "\n",
    "\t\tINNER JOIN NFE_PUBLICA_PRODUCAO.dbo.DIM_CHAVE AS chave -- Juntando com tabela DIM_CHAVE para pegar a chave da nota fiscal\n",
    "\t\t\tON nfe.id_chave = chave.id_chave\n",
    "\n",
    "\t\tINNER JOIN NFE_PUBLICA_PRODUCAO.dbo.DIM_DESTINATARIO_EMITENTE AS emitente_destinatario -- Relação das notas fiscais com os dados de seus emitentes\n",
    "\t\t\tON nfe.id_emitente = emitente_destinatario.id_destinatario_emitente\n",
    "\n",
    "\t\tINNER JOIN NFE_PUBLICA_PRODUCAO.dbo.DIM_CPF_CNPJ AS cpf_cnpj -- Relação com tabela DIM_CPF_CNPJ para pegar o cnpj\n",
    "\t\t\tON emitente_destinatario.id_cpf_cnpj = cpf_cnpj.id_cpf_cnpj\n",
    "\n",
    "\t\tWHERE\n",
    "\t\t\tnfe.nota_cancelada = 1 AND\n",
    "\t\t\tcpf_cnpj.cnpj = {cnpj}\n",
    "\t)\n",
    "\"\"\""
   ]
  },
  {
   "attachments": {},
   "cell_type": "markdown",
   "metadata": {},
   "source": [
    "### Resultados"
   ]
  },
  {
   "cell_type": "code",
   "execution_count": 137,
   "metadata": {},
   "outputs": [
    {
     "data": {
      "text/plain": [
       "3"
      ]
     },
     "execution_count": 137,
     "metadata": {},
     "output_type": "execute_result"
    }
   ],
   "source": [
    "notas_ativas_raw_devolucao = busca_sql(query_notas_ativas_raw_devolucao)\n",
    "len(notas_ativas_raw_devolucao[\"chave\"].values)"
   ]
  },
  {
   "cell_type": "code",
   "execution_count": 138,
   "metadata": {},
   "outputs": [
    {
     "data": {
      "text/plain": [
       "3"
      ]
     },
     "execution_count": 138,
     "metadata": {},
     "output_type": "execute_result"
    }
   ],
   "source": [
    "notas_ativas_filtered_devolucao = busca_sql(query_notas_ativas_filtered_devolucao)\n",
    "len(notas_ativas_filtered_devolucao[\"chave\"].values)"
   ]
  },
  {
   "cell_type": "code",
   "execution_count": 139,
   "metadata": {},
   "outputs": [
    {
     "data": {
      "text/plain": [
       "([], 0)"
      ]
     },
     "execution_count": 139,
     "metadata": {},
     "output_type": "execute_result"
    }
   ],
   "source": [
    "nao_passou_no_filtro_devolucao = comparando_dfs(notas_ativas_raw_devolucao[\"chave\"].values, notas_ativas_filtered_devolucao[\"chave\"].values)\n",
    "nao_passou_no_filtro_devolucao, len(nao_passou_no_filtro_devolucao)"
   ]
  },
  {
   "attachments": {},
   "cell_type": "markdown",
   "metadata": {},
   "source": [
    "## Notas Canceladas"
   ]
  },
  {
   "attachments": {},
   "cell_type": "markdown",
   "metadata": {},
   "source": [
    "### Queries"
   ]
  },
  {
   "cell_type": "code",
   "execution_count": 140,
   "metadata": {},
   "outputs": [],
   "source": [
    "query_notas_raw_cancelada = \\\n",
    "rf\"\"\"\n",
    "SELECT\n",
    "\tDISTINCT chave.chave\n",
    "FROM NFE_PUBLICA_PRODUCAO.dbo.FATO_NFE AS nfe -- Juntando com a tabela NFE para, a partir dela, fazer ligação com a tabela DIM_DESTINATARIO_EMITENTE\n",
    "INNER JOIN NFE_PUBLICA_PRODUCAO.dbo.DIM_CHAVE AS chave -- Juntando com tabela DIM_CHAVE para pegar a chave da nota fiscal\n",
    "\tON nfe.id_chave = chave.id_chave\n",
    "INNER JOIN NFE_PUBLICA_PRODUCAO.dbo.DIM_DESTINATARIO_EMITENTE AS emitente_destinatario -- Relação das notas fiscais com os dados de seus emitentes\n",
    "\tON nfe.id_emitente = emitente_destinatario.id_destinatario_emitente\n",
    "INNER JOIN NFE_PUBLICA_PRODUCAO.dbo.DIM_CPF_CNPJ AS cpf_cnpj -- Relação com tabela DIM_CPF_CNPJ para pegar o cnpj\n",
    "\tON emitente_destinatario.id_cpf_cnpj = cpf_cnpj.id_cpf_cnpj\n",
    "WHERE\n",
    "\tnfe.nota_cancelada = 1 AND\n",
    "\tcpf_cnpj.cnpj = {cnpj}\n",
    "\"\"\""
   ]
  },
  {
   "cell_type": "code",
   "execution_count": 141,
   "metadata": {},
   "outputs": [],
   "source": [
    "query_notas_filtered_cancelada = \\\n",
    "rf\"\"\"\n",
    "SELECT\n",
    "\tDISTINCT chave.chave\n",
    "FROM NFE_PUBLICA_PRODUCAO.dbo.FATO_PRODUTO AS produtos -- Carregando a tabela produtos que é o alvo da query\n",
    "INNER JOIN NFE_PUBLICA_PRODUCAO.dbo.FATO_NFE AS nfe -- Juntando com a tabela NFE para, a partir dela, fazer ligação com a tabela DIM_DESTINATARIO_EMITENTE\n",
    "\tON produtos.id_chave = nfe.id_chave\n",
    "INNER JOIN NFE_PUBLICA_PRODUCAO.dbo.DIM_CHAVE AS chave -- Juntando com tabela DIM_CHAVE para pegar a chave da nota fiscal\n",
    "\tON produtos.id_chave = chave.id_chave\n",
    "INNER JOIN NFE_PUBLICA_PRODUCAO.dbo.DIM_DESTINATARIO_EMITENTE AS emitente -- Relação das notas fiscais com os dados de seus emitentes\n",
    "\tON nfe.id_emitente = emitente.id_destinatario_emitente\n",
    "INNER JOIN NFE_PUBLICA_PRODUCAO.dbo.DIM_CPF_CNPJ AS cpf_cnpj -- Relação com tabela DIM_CPF_CNPJ para pegar o cnpj\n",
    "\tON emitente.id_cpf_cnpj = cpf_cnpj.id_cpf_cnpj\n",
    "INNER JOIN RF.dbo.t_pessoa_juridica AS pessoa_juridica -- Relação com banco de dados da Rceita Federal através do NPJ para filtras os códigos CNAE das empresas\n",
    "\tON cpf_cnpj.cnpj = pessoa_juridica.cnpj\n",
    "--------------------------------------------------------------------------------------------------------------------------------------------------------------\n",
    "WHERE\n",
    "--FILTRO PRODUTOS\n",
    "\t(\n",
    "\t\t-- Código para bebidas, líquidos alcoólicos e vinagres (Capítulo 22)\n",
    "\t\tprodutos.codigo_ncm LIKE '22071%' OR\n",
    "\t\tprodutos.codigo_ncm LIKE '22072%' OR\n",
    "\t\t-- Códigos NCM para produtos farmacêuticos (Capítulo 30)\n",
    "\t\tprodutos.codigo_ncm LIKE '30%' OR\n",
    "\t\t-- Código Extratos tanantes e tintoriais (Capítulo 32)\n",
    "\t\tprodutos.codigo_ncm LIKE '320416%' OR -- corantes reagentes e preparações à base desses corantes\n",
    "\t\t-- Código para produtos para fotografia e cinematografia (Capítulo 37)\n",
    "\t\tprodutos.codigo_ncm LIKE '370110%' OR -- filme para raio x\n",
    "\t\t-- Código produtos químicos diversos (Capítulo 38)\n",
    "\t\tprodutos.codigo_ncm LIKE '3821%' OR -- Meios de cultura preparados para o desenvolvimento e a manutenção de microrganismos \n",
    "\t\tprodutos.codigo_ncm LIKE '3822%' OR -- reagentes de diagnóstico ou de laboratório (e.g. analisador de PH, glicose liquida, fósforo UV, hemoglobina glicada, acido urico)\n",
    "\t\t-- Código NCM para produtos de borracha (Capítulo 40)\n",
    "\t\tprodutos.codigo_ncm LIKE '40151%' OR\n",
    "\t\t-- Código para tecidos especiais, tecidos tufados, rendas, tapeçarias, passamanarias, bordados (Capítulo 58)\n",
    "\t\tprodutos.codigo_ncm LIKE '5803%' OR -- Tecidos em ponto de gaze\n",
    "\t\t-- Código para Outros artefatos têxteis confeccionados (Capítulo 60)\n",
    "\t\tprodutos.codigo_ncm LIKE '6307901%' OR -- Outros artefatos confeccionados de falso tecido (e.g. máscara)\n",
    "\t\t-- Código Reatores nucleares, caldeiras, máquinas, aparelhos e instrumentos mecânicos, e suas partes (Capítulo 84)\n",
    "\t\tprodutos.codigo_ncm LIKE '842119%' OR -- Centrifugadores para laboratórios de análises, ensaios ou pesquisas científicas\n",
    "\t\tprodutos.codigo_ncm LIKE '842191%' OR -- Partes de centrifugadores\n",
    "\t\tprodutos.codigo_ncm LIKE '84798912' OR -- Distribuidores e doseadores de sólidos ou de líquidos  (e.g. micropipeta)\n",
    "\t\t-- Códigos NCM para instrumentos e aparelhos de óptica, de fotografia, de cinematografia, de medida, de controle ou de precisão.\n",
    "\t\t-- instrumentos e aparelhos médico-cirúrgicos suas partes e acessórios (Capítulo 90)\n",
    "\t\tprodutos.codigo_ncm LIKE '9011%' OR --  Microscópios ópticos, incluindo os microscópios para fotomicrografia, cinefotomicrografia ou microprojeção.\n",
    "\t\tprodutos.codigo_ncm LIKE '9012%' OR --  Microscópios, exceto ópticos; difratógrafos.\n",
    "\t\tprodutos.codigo_ncm LIKE '9018%' OR -- instumentos e aparelhos para medicina, cirurgia, odontologia e veterinária\n",
    "\t\tprodutos.codigo_ncm LIKE '9019%' OR -- aparelhos de mecanoterapia, aparelhos de massagem, de psicotécnica, de ozonoterapia...\n",
    "\t\tprodutos.codigo_ncm LIKE '9020%' OR -- outros aparelhos respiratórios e máscaras contra gases\n",
    "\t\tprodutos.codigo_ncm LIKE '9021%' OR -- Artigos e aparelhos ortopédicos\n",
    "\t\tprodutos.codigo_ncm LIKE '9022%' OR -- Aparelhos de raios X e aparelhos que utilizem radiações alfa\n",
    "\t\tprodutos.codigo_ncm LIKE '9027%' OR -- Instrumentos e aparelhos para análises físicas ou químicas\n",
    "\t\t-- Códigos para Obras diversas (Capítulo 96)\n",
    "\t\tprodutos.codigo_ncm LIKE '9619%' OR --  Absorventes e tampões higiênicos, cueiros e fraldas para bebês e artigos higiênicos semelhantes, de qualquer matéria.\n",
    "\t\t\t-- FONTE: http://www5.sefaz.mt.gov.br/documents/6071037/6401784/Tabela+NCM+-+MDIC+atualizada.pdf/bc780e4b-fd2f-4312-879c-65d5fd1ff49d / Pág. 129\n",
    "\t\tprodutos.id_medicamento != -1 -- possui id de medicamento válido\n",
    "\t) AND\n",
    "--------------------------------------------------------------------------------------------------------------------------------------------------------------\n",
    "--FILTRO NOTA FISCAL\n",
    "\tnfe.nota_cancelada = 1 AND -- Notas que foram canceladas\n",
    "--------------------------------------------------------------------------------------------------------------------------------------------------------------\n",
    "--FILTRO PESSOA JURIDICA 4645101\n",
    "\tpessoa_juridica.cnae_fiscal IN (2110600, 2121101, 2121102, 2121103, 2123800, 2312500, 3299099, 4618401,\n",
    "\t\t\t\t\t\t\t\t\t4644301, 4645101, 4664800, 4684299, 4771701, 4771702, 4771703, 4773300) -- Empresas farmoquimicas e farmaceuticas\n",
    "-- Fonte: https://www.contabilizei.com.br/contabilidade-online/cnae/ - https://concla.ibge.gov.br/busca-online-cnae.html\n",
    "--------------------------------------------------------------------------------------------------------------------------------------------------------------\n",
    "\tAND cpf_cnpj.cnpj = {cnpj}\n",
    "\"\"\""
   ]
  },
  {
   "attachments": {},
   "cell_type": "markdown",
   "metadata": {},
   "source": [
    "### Resultados"
   ]
  },
  {
   "cell_type": "code",
   "execution_count": 142,
   "metadata": {},
   "outputs": [
    {
     "data": {
      "text/plain": [
       "5"
      ]
     },
     "execution_count": 142,
     "metadata": {},
     "output_type": "execute_result"
    }
   ],
   "source": [
    "notas_raw_cancelada = busca_sql(query_notas_raw_cancelada)\n",
    "len(notas_raw_cancelada[\"chave\"].values)"
   ]
  },
  {
   "cell_type": "code",
   "execution_count": 143,
   "metadata": {},
   "outputs": [
    {
     "data": {
      "text/plain": [
       "5"
      ]
     },
     "execution_count": 143,
     "metadata": {},
     "output_type": "execute_result"
    }
   ],
   "source": [
    "notas_filtered_cancelada = busca_sql(query_notas_filtered_cancelada)\n",
    "len(notas_filtered_cancelada[\"chave\"].values)"
   ]
  },
  {
   "cell_type": "code",
   "execution_count": 144,
   "metadata": {},
   "outputs": [
    {
     "data": {
      "text/plain": [
       "([], 0)"
      ]
     },
     "execution_count": 144,
     "metadata": {},
     "output_type": "execute_result"
    }
   ],
   "source": [
    "nao_passou_no_filtro_cancelada = comparando_dfs(notas_raw_cancelada[\"chave\"].values, notas_filtered_cancelada[\"chave\"].values)\n",
    "nao_passou_no_filtro_cancelada, len(nao_passou_no_filtro_cancelada)"
   ]
  },
  {
   "cell_type": "code",
   "execution_count": null,
   "metadata": {},
   "outputs": [],
   "source": []
  }
 ],
 "metadata": {
  "kernelspec": {
   "display_name": "Python 3",
   "language": "python",
   "name": "python3"
  },
  "language_info": {
   "codemirror_mode": {
    "name": "ipython",
    "version": 3
   },
   "file_extension": ".py",
   "mimetype": "text/x-python",
   "name": "python",
   "nbconvert_exporter": "python",
   "pygments_lexer": "ipython3",
   "version": "3.9.0"
  },
  "orig_nbformat": 4,
  "vscode": {
   "interpreter": {
    "hash": "81794d4967e6c3204c66dcd87b604927b115b27c00565d3d43f05ba2f3a2cb0d"
   }
  }
 },
 "nbformat": 4,
 "nbformat_minor": 2
}
